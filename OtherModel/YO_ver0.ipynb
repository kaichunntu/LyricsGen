{
 "cells": [
  {
   "cell_type": "code",
   "execution_count": 1,
   "metadata": {},
   "outputs": [],
   "source": [
    "import os\n",
    "import time\n",
    "import pickle\n",
    "\n",
    "os.environ[\"CUDA_VISIBLE_DEVICES\"] = \"0\"\n",
    "\n",
    "from collections import defaultdict\n",
    "\n",
    "import numpy as np\n",
    "import tensorflow as tf\n",
    "import tensorflow.contrib.layers as ly\n",
    "from tensorflow.contrib.framework import nest \n",
    "from tensorflow.python.framework import tensor_shape\n",
    "from tensorflow.python.ops import tensor_array_ops\n",
    "from tensorflow.python.ops import array_ops\n",
    "from tensorflow.python.framework import tensor_util\n",
    "from tensorflow.python.framework import ops\n",
    "\n",
    "sess_opt = tf.ConfigProto(gpu_options = tf.GPUOptions(per_process_gpu_memory_fraction=0.95 , allow_growth=True)\n",
    "                         ,device_count={'GPU': 1})\n",
    "\n",
    "from utils import exist_or_mkdir , data_manager , transform_orig\n",
    "\n",
    "exp_folder = \"YO_ver0\"\n",
    "model_path = \"model_para\"\n",
    "tmp_path = \"tmp\"\n",
    "log_path = \"log\""
   ]
  },
  {
   "cell_type": "code",
   "execution_count": 2,
   "metadata": {},
   "outputs": [
    {
     "name": "stdout",
     "output_type": "stream",
     "text": [
      "Path : './YO_ver0'\n",
      "Path : './YO_ver0/model_para'\n",
      "Path : './YO_ver0/tmp'\n",
      "Path : './YO_ver0/log'\n"
     ]
    }
   ],
   "source": [
    "exp_folder = exist_or_mkdir(\"./\",exp_folder)\n",
    "model_path = exist_or_mkdir(exp_folder,model_path)\n",
    "tmp_path = exist_or_mkdir(exp_folder,tmp_path)\n",
    "log_path = exist_or_mkdir(exp_folder,log_path)\n"
   ]
  },
  {
   "cell_type": "code",
   "execution_count": 3,
   "metadata": {},
   "outputs": [],
   "source": [
    "Encoder_max_len = 40\n",
    "Decoder_max_len = 30\n",
    "min_count = 3\n",
    "print_interval = 1500\n",
    "train_batch_size = 200\n",
    "n_epoch = 10"
   ]
  },
  {
   "cell_type": "code",
   "execution_count": 4,
   "metadata": {},
   "outputs": [
    {
     "name": "stdout",
     "output_type": "stream",
     "text": [
      "\n",
      "##################################################################################################\n",
      "########################################  Loading Data  ##########################################\n",
      "##################################################################################################\n",
      "\n"
     ]
    }
   ],
   "source": [
    "print(\"\"\"\n",
    "##################################################################################################\n",
    "########################################  Loading Data  ##########################################\n",
    "##################################################################################################\n",
    "\"\"\")"
   ]
  },
  {
   "cell_type": "code",
   "execution_count": 5,
   "metadata": {},
   "outputs": [
    {
     "name": "stdout",
     "output_type": "stream",
     "text": [
      "### Loading Train Data ###\n",
      "Data count : 651339\n",
      "\n",
      "### Data view ###\n",
      "Original data  : ['SOS', '唐达', 'EOS', 'nr', 'NOP', 'an', 'NOE', '1', 'NOR']\n",
      "Output Sentence : ['SOS', '陶山', 'EOS']\n",
      "### Loading Test Data ###\n",
      "Data count : 70000\n",
      "\n",
      "### Data view ###\n",
      "Original data  : ['SOS', '总', '觉得', '自己', '在', '素刻', '程度', '上', '很', '吃力', 'EOS', 'v', 'n', 'uj', 'd', 'c', 'a', 'NOP', 'ao', 'NOE', '6', 'NOR']\n"
     ]
    }
   ],
   "source": [
    "train_path = [\"data/{}/train.csv\".format(x) for x in [\"all\"]]\n",
    "test_path = [\"data/{}/test.csv\".format(x) for x in [\"all\"]]\n",
    "\n",
    "print(\"### Loading Train Data ###\")\n",
    "data_agent = data_manager(train_path , train=True)\n",
    "\n",
    "\n",
    "print(\"### Loading Test Data ###\")\n",
    "test_agent = data_manager(test_path , train=False)"
   ]
  },
  {
   "cell_type": "code",
   "execution_count": 6,
   "metadata": {},
   "outputs": [
    {
     "name": "stdout",
     "output_type": "stream",
     "text": [
      "\n",
      "### Preprocessing ###\n",
      "Min Count : 3\n",
      "Max Length : [40, 30]\n",
      "Word Count : 59465\n",
      "Orig data  : ['SOS', '哥', '呀', 'EOS', 'r', 't', 'v', 'f', 'm', 'v', 'NOP', 'iu', 'NOE', '6', 'NOR']\n",
      "Index data : [3736, 681, 3, 12, 92, 15, 16, 14, 15, 18, 445, 20, 33, 22, 0, 0, 0, 0, 0, 0, 0, 0, 0, 0, 0, 0, 0, 0, 0, 0, 0, 0, 0, 0, 0, 0, 0, 0, 0, 0]\n",
      "Output Orig data  : ['SOS', '我', '前半晌', '绣', '后', '半晌', '绣', 'EOS']\n",
      "Output Index data : [36, 44988, 13844, 546, 44989, 13844, 3, 0, 0, 0, 0, 0, 0, 0, 0, 0, 0, 0, 0, 0, 0, 0, 0, 0, 0, 0, 0, 0, 0, 0]\n"
     ]
    }
   ],
   "source": [
    "print(\"\\n### Preprocessing ###\")\n",
    "idx_in_sen , idx_out_sen , mask_in , mask_out , length_in , length_out , idx2word , word2idx , remain_idx =\\\n",
    "    transform_orig([data_agent.orig_data,data_agent.out_sen],min_count=min_count, max_len = [Encoder_max_len,Decoder_max_len])"
   ]
  },
  {
   "cell_type": "code",
   "execution_count": 7,
   "metadata": {},
   "outputs": [],
   "source": [
    "pickle.dump({\"orig_word\":[idx2word,word2idx] },\n",
    "            open(os.path.join(tmp_path,\"tokenizer.pkl\") , \"wb\"))"
   ]
  },
  {
   "cell_type": "code",
   "execution_count": 8,
   "metadata": {},
   "outputs": [
    {
     "name": "stdout",
     "output_type": "stream",
     "text": [
      "\n",
      "##################################################################################################\n",
      "#######################################  Building Model  #########################################\n",
      "##################################################################################################\n",
      "\n"
     ]
    }
   ],
   "source": [
    "print(\"\"\"\n",
    "##################################################################################################\n",
    "#######################################  Building Model  #########################################\n",
    "##################################################################################################\n",
    "\"\"\")\n",
    "start_time = time.time()"
   ]
  },
  {
   "cell_type": "code",
   "execution_count": 9,
   "metadata": {},
   "outputs": [],
   "source": [
    "def encode(inputs,dim,dil,pad=\"same\"):\n",
    "    c0 = tf.layers.conv1d(inputs,dim,3,strides=1,dilation_rate=dil,activation=None,padding=pad)\n",
    "    c0_score = tf.layers.conv1d(inputs,dim,3,strides=1,dilation_rate=dil,activation=tf.nn.sigmoid,padding=pad)\n",
    "    return tf.multiply(c0,c0_score)"
   ]
  },
  {
   "cell_type": "code",
   "execution_count": 10,
   "metadata": {},
   "outputs": [],
   "source": [
    "def deconv(inputs,encoder_vec,encoder_residual_vec,max_len,residual=None,dim=256,kernel_size=3,reuse_flag=True):\n",
    "    print(\"Deconv inputs : \" , inputs)\n",
    "    with tf.name_scope(\"Deconv\"):\n",
    "        vec_o = encode(inputs,256,1)\n",
    "        vec_o = encode(vec_o,256,1)\n",
    "        vec_o = encode(vec_o,256,1,\"valid\")\n",
    "        print(vec_o)\n",
    "        vec = tf.concat([tf.tile(vec_o,[1,max_len,1]),encoder_vec],axis=-1)\n",
    "        attn_score = tf.layers.dense(vec,dim//2,activation=tf.nn.leaky_relu)\n",
    "        attn_score = tf.nn.softmax(tf.layers.dense(attn_score,1,activation=None),axis=1)\n",
    "        out = tf.reduce_sum(encoder_residual_vec*attn_score,axis=1,keepdims=True)\n",
    "        out = out + vec_o\n",
    "    print(\"Deconv out :\" , out)\n",
    "    print(\"Deconv score :\" , attn_score)\n",
    "    return out , attn_score"
   ]
  },
  {
   "cell_type": "code",
   "execution_count": 11,
   "metadata": {},
   "outputs": [],
   "source": [
    "def wordclf(inputs,dim,embd_T,reuse_flag=False,training=True):\n",
    "    with tf.name_scope(\"WordClf\"):\n",
    "        print(\"Wordclf inputs : \" ,inputs)\n",
    "        fc1 = tf.layers.dense(inputs,dim,activation=None,name=\"fc1\",reuse=reuse_flag)\n",
    "    #     fc1 = tf.layers.batch_normalization(fc1,trainable=training,training=training,\n",
    "    #                                         reuse=reuse_flag,name=\"BN1\")\n",
    "        fc1 = tf.nn.leaky_relu(fc1)\n",
    "        fc2 = tf.layers.dense(fc1,embd_dim,activation=None,reuse=reuse_flag,name=\"fc2\")\n",
    "        print(fc2)\n",
    "        flat = tf.layers.flatten(fc2)\n",
    "        print(flat)\n",
    "        out = flat @ embd_T\n",
    "    return out"
   ]
  },
  {
   "cell_type": "code",
   "execution_count": 12,
   "metadata": {},
   "outputs": [],
   "source": [
    "def dynamic_deconv(encoder,encoder_residual_vec,embd,embd_T,max_time):\n",
    "    \n",
    "    batch_size,max_len,encoder_dim = tf.unstack(tf.shape(encoder))\n",
    "    \n",
    "    emit_ta = nest.pack_sequence_as(int(embd.shape[0]),\n",
    "                                    [tensor_array_ops.TensorArray(tf.float32,\n",
    "                                                                  clear_after_read=False,\n",
    "                                                                  size=0,\n",
    "                                                                  dynamic_size=True,\n",
    "                                                                  element_shape=tensor_shape.\\\n",
    "                                                                      TensorShape([None,len(idx2word)]))])\n",
    "    emit_input = nest.pack_sequence_as(int(1),\n",
    "                                           [tensor_array_ops.TensorArray(tf.int32,\n",
    "                                                                         clear_after_read=False,\n",
    "                                                                         size=0,\n",
    "                                                                         dynamic_size=True,\n",
    "                                                                         element_shape=tensor_shape.\\\n",
    "                                                                             TensorShape([None]))])\n",
    "    \n",
    "    emit_score = tensor_array_ops.TensorArray(tf.float32,\n",
    "                                              clear_after_read=False,\n",
    "                                              size=0,\n",
    "                                              dynamic_size=True,\n",
    "                                              element_shape=tensor_shape.\\\n",
    "                                                  TensorShape([None,None,1]))\n",
    "    \n",
    "    time = tf.constant(0,dtype=tf.int32)\n",
    "    output_time = tf.constant(0,dtype=tf.int32)\n",
    "    def initialize(batch_size,time,emit_input):\n",
    "        for w in [\"NULL\" , \"NULL\" , \"SOS\"]:\n",
    "            idx = tf.reshape(tf.constant(word2idx[w],dtype=tf.int32),[-1])\n",
    "            idx = tf.tile(idx,[batch_size])\n",
    "            emit_input = nest.map_structure(lambda ta,em: ta.write(time,em),emit_input,idx)\n",
    "            time += 1\n",
    "        return emit_input,time\n",
    "    \n",
    "    emit_input, time = initialize(batch_size,time,emit_input)\n",
    "    \n",
    "    def body(output_time,time,emit_input,emit_ta,emit_score):\n",
    "        \n",
    "        inputs_idx = tf.transpose(emit_input.gather([time-3,time-2,time-1]),[1,0])\n",
    "        print(\"input idx\",inputs_idx)\n",
    "        \n",
    "        inputs_vec = tf.nn.embedding_lookup(embd,inputs_idx)\n",
    "        output_vec , attn_s= deconv(inputs_vec,encoder,encoder_residual_vec,max_len,dim=256,reuse_flag=False)\n",
    "        output_logits = wordclf(output_vec,300,embd_T,reuse_flag=False)\n",
    "        \n",
    "        next_idx = tf.argmax(output_logits,axis=-1,output_type=tf.int32)\n",
    "        emit_input = nest.map_structure(lambda ta,em:ta.write(time,em),emit_input,next_idx)\n",
    "        time += 1\n",
    "        \n",
    "        emit_ta = emit_ta.write(output_time,output_logits)\n",
    "        emit_score = emit_score.write(output_time,attn_s)\n",
    "        output_time += 1\n",
    "        \n",
    "        return output_time,time,emit_input,emit_ta,emit_score\n",
    "    \n",
    "    def condition(t,*_):\n",
    "        return t<max_time\n",
    "    \n",
    "    _,_,emit_input,emit_ta,emit_score = \\\n",
    "            tf.while_loop(condition,body,\n",
    "                          loop_vars=[output_time,time,emit_input,emit_ta,emit_score],\n",
    "                          swap_memory=False)\n",
    "        \n",
    "    emit_input = tf.transpose(emit_input.stack(),[1,0])[:,3::]\n",
    "    emit_ta = tf.transpose(emit_ta.stack(),[1,0,2])\n",
    "    emit_score = tf.transpose(emit_score.stack(),[1,0,2,3])\n",
    "    emit_score = tf.reshape(emit_score , [batch_size,-1,max_len])\n",
    "    return emit_input,emit_ta,emit_score"
   ]
  },
  {
   "cell_type": "code",
   "execution_count": 13,
   "metadata": {},
   "outputs": [],
   "source": [
    "def get_grad_norm(_t_position,_p_position,pos_tensor):\n",
    "    grad = tf.gradients(logits[0,_t_position,_p_position],pos_tensor)[0]\n",
    "    return tf.sqrt(tf.reduce_sum(grad*grad,axis=-1))"
   ]
  },
  {
   "cell_type": "code",
   "execution_count": 14,
   "metadata": {},
   "outputs": [
    {
     "name": "stdout",
     "output_type": "stream",
     "text": [
      "input idx Tensor(\"Conv_decode/while/transpose:0\", shape=(?, 3), dtype=int32)\n",
      "Deconv inputs :  Tensor(\"Conv_decode/while/embedding_lookup:0\", shape=(?, 3, 256), dtype=float32)\n",
      "Tensor(\"Conv_decode/while/Deconv/Mul_2:0\", shape=(?, 1, 256), dtype=float32)\n",
      "Deconv out : Tensor(\"Conv_decode/while/Deconv/add:0\", shape=(?, 1, 256), dtype=float32)\n",
      "Deconv score : Tensor(\"Conv_decode/while/Deconv/transpose_1:0\", shape=(?, ?, 1), dtype=float32)\n",
      "Wordclf inputs :  Tensor(\"Conv_decode/while/Deconv/add:0\", shape=(?, 1, 256), dtype=float32)\n",
      "Tensor(\"Conv_decode/while/WordClf/fc2/BiasAdd:0\", shape=(?, 1, 256), dtype=float32)\n",
      "Tensor(\"Conv_decode/while/WordClf/flatten/Reshape:0\", shape=(?, 256), dtype=float32)\n"
     ]
    }
   ],
   "source": [
    "embd_dim = 256\n",
    "L0_dim = 256\n",
    "L1_dim = 300\n",
    "L2_dim = 300\n",
    "clf_dim = 256\n",
    "\n",
    "g_conv = tf.Graph()\n",
    "with g_conv.as_default() as g:\n",
    "    with tf.name_scope(\"Input\"):\n",
    "        _xs = tf.placeholder(tf.int32,[None,None])\n",
    "        _xs_length = tf.placeholder(tf.int32,[None])\n",
    "        xs_mask = tf.sequence_mask(_xs_length,dtype=tf.float32)\n",
    "        \n",
    "        _ys = tf.placeholder(tf.int32,[None,None])\n",
    "        ys_one_hot = tf.one_hot(_ys,depth=len(idx2word))\n",
    "        _ys_length = tf.placeholder(tf.int32,[None])\n",
    "        ys_mask = tf.sequence_mask(_ys_length,dtype=tf.float32)\n",
    "        \n",
    "        t_place = tf.placeholder(tf.int32,[])\n",
    "        _exp_idx = tf.placeholder(tf.int32,[None])\n",
    "        \n",
    "    with tf.name_scope(\"Embedding\"):\n",
    "        _embd = tf.get_variable(\"Embedding\",[len(idx2word),embd_dim],dtype=tf.float32,trainable=True,\n",
    "                                initializer=tf.truncated_normal_initializer(stddev=0.1))\n",
    "        _embd_T = tf.transpose(_embd,[1,0])\n",
    "        x_vector = tf.nn.embedding_lookup(_embd, _xs, max_norm=10)\n",
    "        \n",
    "        _exp_vec = tf.nn.embedding_lookup(_embd,_exp_idx)\n",
    "        \n",
    "    with tf.name_scope(\"Conv_encode\"):\n",
    "        en_conv1 = encode(x_vector,L0_dim,1)\n",
    "        en_conv2 = encode(en_conv1,L0_dim,2)\n",
    "        en_conv3 = encode(en_conv2,L0_dim,4)\n",
    "        \n",
    "    with tf.name_scope(\"Conv_decode\"):\n",
    "        _pred , logits , _attn_map = dynamic_deconv(en_conv3,x_vector+en_conv3,_embd,_embd_T,t_place)\n",
    "    \n",
    "    with tf.name_scope(\"Loss\"):\n",
    "        ce = tf.nn.softmax_cross_entropy_with_logits_v2(labels=ys_one_hot,logits=logits)*ys_mask\n",
    "        ce = tf.reduce_sum(ce,axis=1,keepdims=False)/tf.cast(_ys_length,tf.float32)\n",
    "        _loss = tf.reduce_mean(ce)\n",
    "        \n",
    "    with tf.name_scope(\"Train\"):\n",
    "        opt = tf.train.AdamOptimizer(5e-4)\n",
    "        _update = opt.minimize(_loss)\n",
    "        \n",
    "    with tf.name_scope(\"Gradient\"):\n",
    "        _t_position = tf.placeholder(tf.int32)\n",
    "        _p_position = _pred[0,_t_position]\n",
    "        xs_vector_gradnorm = get_grad_norm(_t_position,_p_position,x_vector)\n",
    "        conv1_gradnorm = get_grad_norm(_t_position,_p_position,en_conv1)\n",
    "        conv2_gradnorm = get_grad_norm(_t_position,_p_position,en_conv2)\n",
    "    \n",
    "    all_var = tf.trainable_variables()\n",
    "    _init = tf.global_variables_initializer()\n",
    "    saver = tf.train.Saver(max_to_keep=8,var_list=tf.trainable_variables())\n",
    "#     tf.summary.FileWriter(log_path,graph=g)"
   ]
  },
  {
   "cell_type": "code",
   "execution_count": 15,
   "metadata": {
    "scrolled": true
   },
   "outputs": [
    {
     "name": "stdout",
     "output_type": "stream",
     "text": [
      "Consume time : 2.72\n",
      "\n"
     ]
    }
   ],
   "source": [
    "print(\"Consume time : {:.2f}\".format(time.time()-start_time))\n",
    "print()"
   ]
  },
  {
   "cell_type": "code",
   "execution_count": 16,
   "metadata": {},
   "outputs": [
    {
     "name": "stdout",
     "output_type": "stream",
     "text": [
      "Var Count : 17805357\n"
     ]
    },
    {
     "data": {
      "text/plain": [
       "17805357"
      ]
     },
     "execution_count": 16,
     "metadata": {},
     "output_type": "execute_result"
    }
   ],
   "source": [
    "def calculate_var(var):\n",
    "    d = 0\n",
    "    for w in var:\n",
    "        tmp_d = 1\n",
    "        for ww in w.shape:\n",
    "            tmp_d *= int(ww)\n",
    "        d += tmp_d\n",
    "    print(\"Var Count :\" , d)\n",
    "    return d\n",
    "\n",
    "calculate_var(all_var)"
   ]
  },
  {
   "cell_type": "code",
   "execution_count": 17,
   "metadata": {},
   "outputs": [
    {
     "name": "stdout",
     "output_type": "stream",
     "text": [
      "\n",
      "##################################################################################################\n",
      "#######################################  Start Infering  #########################################\n",
      "##################################################################################################\n",
      "\n",
      "\n"
     ]
    }
   ],
   "source": [
    "print(\"\"\"\n",
    "##################################################################################################\n",
    "#######################################  Start Infering  #########################################\n",
    "##################################################################################################\\n\n",
    "\"\"\")"
   ]
  },
  {
   "cell_type": "code",
   "execution_count": 18,
   "metadata": {},
   "outputs": [],
   "source": [
    "sess = tf.Session(graph=g_conv,config=sess_opt)\n",
    "sess.run(_init)"
   ]
  },
  {
   "cell_type": "code",
   "execution_count": 26,
   "metadata": {},
   "outputs": [],
   "source": [
    "def get_batch(i):\n",
    "    tmp_end = max(length_in[i])\n",
    "    out_max_len = max(length_out[i])\n",
    "    my_dict = {\n",
    "        _xs:idx_in_sen[i,:tmp_end],\n",
    "        _ys:idx_out_sen[i,:out_max_len],\n",
    "        _ys_length:length_out[i],\n",
    "        t_place:out_max_len\n",
    "    }\n",
    "    return my_dict\n",
    "\n",
    "\n",
    "# In[20]:\n",
    "\n",
    "\n",
    "def evaluate_batch(sess,_pred,count=3):\n",
    "    idx = np.random.choice(idx_in_sen.shape[0],[count])\n",
    "    tmp_max_len = max(length_in[idx])\n",
    "    my_dict = {\n",
    "        _xs:idx_in_sen[idx,:tmp_max_len],\n",
    "        t_place:30\n",
    "    }\n",
    "    start_t = time.time()\n",
    "    pred = sess.run(_pred , feed_dict=my_dict)\n",
    "    print(time.time()-start_t)\n",
    "    word_seq = []\n",
    "    for i in range(3):\n",
    "        idx_sen = pred[i]\n",
    "        tmp = []\n",
    "        for t in range(Decoder_max_len-1):\n",
    "            if(idx_sen[t] == 3):\n",
    "                break\n",
    "            tmp.append(idx2word[idx_sen[t]])\n",
    "        word_seq.append(tmp)\n",
    "    \n",
    "    print(\"Max length :\" , tmp_max_len)\n",
    "    for i in range(3):\n",
    "        print(\"  Input word  :\" , data_agent.orig_data[remain_idx[idx[i]]])\n",
    "        print(\"  Input index :\" , idx_in_sen[idx[i],:tmp_max_len])\n",
    "        print(\"  Ground word :\" , data_agent.out_sen[remain_idx[idx[i]]])\n",
    "        print(\"    Output    :\" , word_seq[i])\n",
    "        print()\n"
   ]
  },
  {
   "cell_type": "code",
   "execution_count": 20,
   "metadata": {},
   "outputs": [
    {
     "name": "stdout",
     "output_type": "stream",
     "text": [
      "step     0 loss :   10.9497 time :    2.52\n",
      "Max length : 23\n",
      "  Input word  : ['SOS', '水', '不', '转', '哪', '山', '也', '转', 'EOS', 'v', 'a', 'uj', 'n', 'NOP', 'iu', 'NOE', '4', 'NOR']\n",
      "  Input index : [2168  270  394 1056 3421   68  394    3   15   40   41   31   18  445\n",
      "   20   73   22    0    0    0    0    0    0]\n",
      "  Ground word : ['SOS', '没有', '憋死', '的', '牛', 'EOS']\n",
      "    Output    : ['鸥鸟', '老祖', '鸥鸟', '风动', '鸥鸟', '鸥鸟', '鸥鸟', '通行', '通行', '开著', '鸥鸟', '算了吧', '鸥鸟', '鸥鸟', '鸥鸟', '通行', '通行', '开著', '鸥鸟', '算了吧', '鸥鸟', '鸥鸟', '鸥鸟', '通行', '通行', '开著', '鸥鸟', '算了吧', '鸥鸟']\n",
      "\n",
      "  Input word  : ['SOS', '小右', '把', '快乐', '气氛', '传递', '到', '每个', '角落', 'EOS', 'v', 'n', 'k', 'uj', 'n', 'd', 'p', 'n', 'v', 'NOP', 'uo', 'NOE', '9', 'NOR']\n",
      "  Input index : [    1   566   188   370 11675   387  2578  3334     3    15    31  2212\n",
      "    41    31    17    13    31    15    18   461    20    21    22]\n",
      "  Ground word : ['SOS', '希望', '孩子', '们', '的', '红包', '不再', '被', '家长', '缴获', 'EOS']\n",
      "    Output    : ['第二', '撇下', '谁入', '偏方', '黑眼', '壮如山', '壮如山', '偏方', '壮如山', '壮如山', '偏方', '壮如山', '壮如山', '偏方', '壮如山', '壮如山', '偏方', '壮如山', '壮如山', '偏方', '壮如山', '壮如山', '偏方', '壮如山', '壮如山', '偏方', '壮如山', '壮如山', '偏方']\n",
      "\n",
      "  Input word  : ['SOS', '就让', '我们', '双手', '紧紧', '地', '握', '着', 'EOS', 'v', 'i', 'v', 'r', 'c', 'r', 'NOP', 'o', 'NOE', '6', 'NOR']\n",
      "  Input index : [1358  200 2677 5239  508 6503   44    3   15   32   15   12   64   12\n",
      "   18  150   20   33   22    0    0    0    0]\n",
      "  Ground word : ['SOS', '让', '美好生活', '属于', '你', '和', '我', 'EOS']\n",
      "    Output    : ['悲剧重演', '悲剧重演', '悲剧重演', '悲剧重演', '悲剧重演', '悲剧重演', '悲剧重演', '悲剧重演', '悲剧重演', '悲剧重演', '悲剧重演', '悲剧重演', '悲剧重演', '悲剧重演', '悲剧重演', '悲剧重演', '悲剧重演', '悲剧重演', '悲剧重演', '悲剧重演', '悲剧重演', '悲剧重演', '悲剧重演', '悲剧重演', '悲剧重演', '悲剧重演', '悲剧重演', '悲剧重演', '悲剧重演']\n",
      "\n",
      "step  1500 loss :    3.8534 time :    0.35\n",
      "Max length : 18\n",
      "  Input word  : ['SOS', '荷叶', '经不起', '我', '的', '重量', 'EOS', 'r', 'v', 'r', 'p', 'v', 'NOP', 'uang', 'NOE', '5', 'NOR']\n",
      "  Input index : [23023 20997    36    10  4545     3    12    15    12    13    15    18\n",
      "   498    20    79    22     0     0]\n",
      "  Ground word : ['SOS', '它们', '说', '我', '在', '撒谎', 'EOS']\n",
      "    Output    : ['我', '说', '我', '在']\n",
      "\n",
      "  Input word  : ['SOS', '仍', '是', '会', '离别', '纠缠', 'EOS', 'v', 'v', 'm', 'n', 'v', 'd', 'v', 'NOP', 'uan', 'NOE', '7', 'NOR']\n",
      "  Input index : [ 341   96  197 1662  307    3   15   15   14   31   15   17   15   18\n",
      "  194   20   66   22]\n",
      "  Ground word : ['SOS', '拔去', '穿心', '一', '箭', '感恩', '不', '怨', 'EOS']\n",
      "    Output    : ['爱', '有', '一个', '人', '爱', '不', '停留']\n",
      "\n",
      "  Input word  : ['SOS', '不要', '嫁给', '别人', 'EOS', 'd', 'v', 'v', 'r', 'NOP', 'o', 'NOE', '4', 'NOR']\n",
      "  Input index : [ 532 8172 4454    3   17   15   15   12   18  150   20   73   22    0\n",
      "    0    0    0    0]\n",
      "  Ground word : ['SOS', '一定', '要', '嫁给', '我', 'EOS']\n",
      "    Output    : ['不', '会', '爱', '我']\n",
      "\n",
      "step  3000 loss :    3.5577 time :    0.35\n",
      "Max length : 25\n",
      "  Input word  : ['SOS', '摇动', '木偶', '令', '到', '他', '打', '筋斗', '使', '我', '开心', '拍', '着手', 'EOS', 'c', 'v', 'n', 'v', 'f', 'r', 'v', 'NOP', 'en', 'NOE', '7', 'NOR']\n",
      "  Input index : [25718 29499   369   387    23   146 42725  1174    36  1273  4455  1612\n",
      "     3    64    15    31    15    16    12    15    18   694    20    66\n",
      "    22]\n",
      "  Ground word : ['SOS', '然而', '待', '戏班', '离去', '之后', '我', '问', 'EOS']\n",
      "    Output    : ['如果', '是', '人', '爱', '上', '你', '吻']\n",
      "\n",
      "  Input word  : ['SOS', '于是', '光芒', 'EOS', 'v', 'NOP', 'uo', 'NOE', '1', 'NOR']\n",
      "  Input index : [4485 6093    3   15   18  461   20  122   22    0    0    0    0    0\n",
      "    0    0    0    0    0    0    0    0    0    0    0]\n",
      "  Ground word : ['SOS', '挥霍', 'EOS']\n",
      "    Output    : ['说']\n",
      "\n",
      "  Input word  : ['SOS', '也许', '完美', '对', '我', '反而', '是', '假象', 'EOS', 't', 'r', 'v', 'v', 'n', 'd', 'v', 'NOP', 'ang', 'NOE', '7', 'NOR']\n",
      "  Input index : [ 396  229  115   36 4593   96 7155    3   92   12   15   15   31   17\n",
      "   15   18  142   20   66   22    0    0    0    0    0]\n",
      "  Ground word : ['SOS', '过去', '我', '不想', '谈有', '缺憾', '也', '无妨', 'EOS']\n",
      "    Output    : ['现在', '我', '要', '让', '人', '不', '忘']\n",
      "\n",
      "step  3252 loss :    3.3399 time :    0.35\n",
      "Epoch   1/10 loss :    3.3399 time :     0.56\n",
      "Max length : 22\n",
      "  Input word  : ['SOS', '送给', '你', '代表', '我', '的', '爱', 'EOS', 'v', 'r', 'v', 'r', 'v', 'uj', 'r', 'd', 'v', 'v', 'NOP', 'ai', 'NOE', '10', 'NOR']\n",
      "  Input index : [ 6445     5 11337    36    10    54     3    15    12    15    12    15\n",
      "    41    12    17    15    15    18   206    20   256    22]\n",
      "  Ground word : ['SOS', '带', '你', '到', '你', '想买', '的', '我', '都', '会', '买', 'EOS']\n",
      "    Output    : ['让', '我', '是', '我', '爱', '的', '我', '也', '会', '爱']\n",
      "\n",
      "  Input word  : ['SOS', '郎情', '妹意', '配成', '双', '呀', '喂', 'EOS', 'nr', 'uj', 'ns', 'zg', 'nr', 'y', 'NOP', 'a', 'NOE', '6', 'NOR']\n",
      "  Input index : [30710 30711 30708  9077   681  1909     3    39    41   131   208    39\n",
      "   563    18    40    20    33    22     0     0     0     0]\n",
      "  Ground word : ['SOS', '青青', '的', '山岭', '穿', '云霄', '呀', 'EOS']\n",
      "    Output    : ['OOV', '的', '吉他', '啊', '耶', '呀']\n",
      "\n",
      "  Input word  : ['SOS', '我', '看', '还', '得', '往上', '加', 'EOS', 'n', 'a', 'ng', 'v', 'n', 'a', 'NOP', 'ou', 'NOE', '6', 'NOR']\n",
      "  Input index : [   36   284     6   516 31450   168     3    31    40  1222    15    31\n",
      "    40    18   125    20    33    22     0     0     0     0]\n",
      "  Ground word : ['SOS', '脸', '大', '鼻', '塌', '嘴唇', '厚', 'EOS']\n",
      "    Output    : ['男', '大', '时', '有', '人', '温柔']\n",
      "\n",
      "step     0 loss :    3.2504 time :    0.35\n",
      "Max length : 19\n",
      "  Input word  : ['SOS', '你', '敞开', '怀抱', '融化', '了', '我', 'EOS', 'r', 'a', 'v', 'n', 'v', 'ul', 'r', 'NOP', 'o', 'NOE', '7', 'NOR']\n",
      "  Input index : [   5  777  859 1214   52   36    3   12   40   15   31   15   50   12\n",
      "   18  150   20   66   22]\n",
      "  Ground word : ['SOS', '你', '轻', '捻', '指尖', '揉碎', '了', '我', 'EOS']\n",
      "    Output    : ['我', '好', '是', '人', '忘', '了', '我']\n",
      "\n",
      "  Input word  : ['SOS', '我', '的', '梦想', 'EOS', 'v', 'uj', 'v', 'v', 'uj', 'd', 'p', 'v', 'NOP', 'ao', 'NOE', '8', 'NOR']\n",
      "  Input index : [  36   10  193    3   15   41   15   15   41   17   13   15   18 1224\n",
      "   20   42   22    0    0]\n",
      "  Ground word : ['SOS', '有', '的', '抓住', '了有', '的', '还', '在', '找', 'EOS']\n",
      "    Output    : ['爱', '的', '是', '爱', '的', '都', '在', '奔跑']\n",
      "\n",
      "  Input word  : ['SOS', '嬉笑怒骂', 'EOS', 'v', 'p', 't', 'n', 'f', 'NOP', 'ian', 'NOE', '5', 'NOR']\n",
      "  Input index : [13394     3    15    13    92    31    16    18   124    20    79    22\n",
      "     0     0     0     0     0     0     0]\n",
      "  Ground word : ['SOS', '只能', '在', '夜里', '镜子', '前', 'EOS']\n",
      "    Output    : ['站', '在', '当', '梦', '下面']\n",
      "\n",
      "Interrupt .. Save lastest model...    0.42\n",
      "\n",
      "Save loss history...\n",
      "\n",
      "### Training Finished!! ###\n",
      "\n"
     ]
    }
   ],
   "source": [
    "batch_size = train_batch_size\n",
    "n_step = idx_in_sen.shape[0]//batch_size\n",
    "\n",
    "r_index = np.arange(idx_in_sen.shape[0])\n",
    "loss_list = []\n",
    "time_list = []\n",
    "try:\n",
    "    for e in range(1,10+1):\n",
    "        np.random.shuffle(r_index)\n",
    "        \n",
    "        start = 0\n",
    "        for s in range(n_step):\n",
    "            idx = r_index[start:start+batch_size]\n",
    "            batch = get_batch(idx)\n",
    "            start_time = time.time()\n",
    "            _ = sess.run(_update , feed_dict=batch)\n",
    "            time_list.append(time.time()-start_time)\n",
    "            l = sess.run(_loss,feed_dict=batch)\n",
    "            start += batch_size\n",
    "            print(\"step {:>5d} loss : {:>9.4f} time : {:>7.2f}\".format(s,l,time_list[-1]) , end=\"\\r\")\n",
    "            loss_list.append(l)\n",
    "            if s % print_interval == 0:\n",
    "                print(\"step {:>5d} loss : {:>9.4f} time : {:>7.2f}\".format(s,l,np.mean(time_list)) , end=\"\\n\")\n",
    "                evaluate_batch(sess,_pred,3)\n",
    "        print(\"\\nEpoch {0:>3d}/{1:d} loss : {2:>9.4f} time : {3:>8.2f}\".format(e,n_epoch,l,time.time()-start_time))\n",
    "\n",
    "        evaluate_batch(sess,_pred,3)\n",
    "\n",
    "        if e%4 == 0:\n",
    "            saver.save(sess,os.path.join(model_path,\"model_{}.ckpt\".format(e)))\n",
    "except KeyboardInterrupt :\n",
    "    print(\"Interrupt .. Save lastest model...\")\n",
    "    saver.save(sess,os.path.join(model_path,\"model_{}.ckpt\".format(\"lastest\")))\n",
    "    print()\n",
    "    \n",
    "print(\"Save loss history...\")\n",
    "pickle.dump(loss_list,open(os.path.join(log_path,\"loss.pkl\") , \"wb\"))\n",
    "\n",
    "\n",
    "# In[ ]:\n",
    "\n",
    "\n",
    "print(\"\\n### Training Finished!! ###\\n\")"
   ]
  },
  {
   "cell_type": "code",
   "execution_count": 21,
   "metadata": {},
   "outputs": [
    {
     "data": {
      "text/plain": [
       "0.3495474839392509"
      ]
     },
     "execution_count": 21,
     "metadata": {},
     "output_type": "execute_result"
    }
   ],
   "source": [
    "np.mean(time_list)"
   ]
  },
  {
   "cell_type": "code",
   "execution_count": 27,
   "metadata": {},
   "outputs": [
    {
     "name": "stdout",
     "output_type": "stream",
     "text": [
      "1.3950645923614502\n",
      "Max length : 40\n",
      "  Input word  : ['SOS', '她', '听着', '着', '了', '迷', '想', '去', '那个', '地方', 'EOS', 'r', 'v', 'm', 'an', 'uj', 'n', 'NOP', 'e', 'NOE', '6', 'NOR']\n",
      "  Input index : [ 914 6773   44   52 1488  119  202 1544 1670    3   12   15   14  136\n",
      "   41   31   18   78   20   33   22    0    0    0    0    0    0    0\n",
      "    0    0    0    0    0    0    0    0    0    0    0    0]\n",
      "  Ground word : ['SOS', '这', '是', '一个', '危险', '的', '时刻', 'EOS']\n",
      "    Output    : ['我', '是', '一个', '温暖', '的', '歌']\n",
      "\n",
      "  Input word  : ['SOS', '陪', '你', '永世', '不', '老', '千年', '眷顾', '一', '笑', 'EOS', 'x', 'q', 'n', 'uj', 'nr', 'NOP', 'ian', 'NOE', '5', 'NOR']\n",
      "  Input index : [  402     5  8541   270  1685  4339 21099  1477   314     3   500    56\n",
      "    31    41    39    18   124    20    79    22     0     0     0     0\n",
      "     0     0     0     0     0     0     0     0     0     0     0     0\n",
      "     0     0     0     0]\n",
      "  Ground word : ['SOS', '娜', '样', '纯杰', '的', '爱恋', 'EOS']\n",
      "    Output    : ['啷', '个', 'OOV', '的', '秋千']\n",
      "\n",
      "  Input word  : ['SOS', '从今', '路', '不再', '一样', '未来', '不再', '能', '分享', 'EOS', 'd', 'p', 'uj', 'v', 'd', 'd', 'p', 's', 'NOP', 'ang', 'NOE', '8', 'NOR']\n",
      "  Input index : [2163  900 1167  595  788 1167   80 2964    3   17   13   41   15   17\n",
      "   17   13   72   18  142   20   42   22    0    0    0    0    0    0\n",
      "    0    0    0    0    0    0    0    0    0    0    0    0]\n",
      "  Ground word : ['SOS', '曾', '给', '的', '承诺', '却', '还', '在', '心上', 'EOS']\n",
      "    Output    : ['不', '对', '的', '爱', '永远', '不', '在', '一旁']\n",
      "\n"
     ]
    }
   ],
   "source": [
    "evaluate_batch(sess,_pred,1000)"
   ]
  },
  {
   "cell_type": "markdown",
   "metadata": {},
   "source": [
    "### Visualization"
   ]
  },
  {
   "cell_type": "code",
   "execution_count": 23,
   "metadata": {},
   "outputs": [
    {
     "name": "stdout",
     "output_type": "stream",
     "text": [
      "INFO:tensorflow:Restoring parameters from ./Conv1D_ver0/model_para/model_10.ckpt\n"
     ]
    }
   ],
   "source": [
    "import pickle\n",
    "\n",
    "from sklearn.manifold import TSNE\n",
    "from sklearn.discriminant_analysis import LinearDiscriminantAnalysis as LDA\n",
    "from matplotlib import pyplot as plt\n",
    "saver.restore(sess,os.path.join(model_path,\"model_10.ckpt\"))"
   ]
  },
  {
   "cell_type": "markdown",
   "metadata": {},
   "source": [
    "#### Attention map"
   ]
  },
  {
   "cell_type": "code",
   "execution_count": 26,
   "metadata": {},
   "outputs": [
    {
     "data": {
      "text/plain": [
       "28617"
      ]
     },
     "execution_count": 26,
     "metadata": {},
     "output_type": "execute_result"
    }
   ],
   "source": [
    "word2idx[\"舔着\"]"
   ]
  },
  {
   "cell_type": "code",
   "execution_count": 52,
   "metadata": {},
   "outputs": [
    {
     "name": "stdout",
     "output_type": "stream",
     "text": [
      "胜利 的 时候 当 我们 并肩 我 不会 忘记 那天 阳光 的 灿烂 EOS v uj n r p v v a NOP an NOE 8 NOR\n",
      "[6811, 10, 888, 339, 200, 16951, 36, 102, 357, 651, 839, 10, 940, 3, 15, 41, 31, 12, 13, 15, 15, 40, 18, 136, 20, 42, 22]\n",
      "GT : 想哭 的 时候 我们 用 仰望 止住 遗憾 EOS NULL NULL NULL NULL NULL NULL NULL NULL NULL NULL NULL NULL NULL NULL NULL NULL NULL NULL NULL NULL NULL\n",
      "离开 的 结局 我 从 没有 止住 遗憾 EOS\n"
     ]
    }
   ],
   "source": [
    "def get_special_sen():\n",
    "    f = open(\"expcode.txt\",\"r\")\n",
    "    x = f.readline().strip().split(\" \")\n",
    "    print(x)\n",
    "    f.close()\n",
    "    idx_arr = []\n",
    "    for s in x:\n",
    "        try:\n",
    "            idx_arr.append(word2idx[s])\n",
    "        except:\n",
    "            idx_arr.append(word2idx[\"OOV\"])\n",
    "    print(idx_arr)\n",
    "    return [idx_arr]\n",
    "\n",
    "def get_attn_special_sen(flag=False,arr = None , gt_arr=None):\n",
    "    if flag:\n",
    "        exp_arr = []\n",
    "        for wi in arr:\n",
    "            try:\n",
    "                exp_arr.append(word2idx[idx2word[wi]])\n",
    "            except:\n",
    "                exp_arr.append(word2idx[\"OOV\"])\n",
    "            if(idx2word[wi] == \"NOR\"):\n",
    "                break\n",
    "        print(\" \".join([idx2word[wi] for wi in exp_arr]))\n",
    "        print(exp_arr)\n",
    "        print(\"GT :\" , \" \".join([idx2word[wi] for wi in gt_arr]))\n",
    "        exp_arr = [exp_arr]\n",
    "        pass\n",
    "    else:\n",
    "        exp_arr = get_special_sen()\n",
    "    attn,out = sess.run([_attn_map,_pred],feed_dict={_xs:exp_arr,t_place:20})\n",
    "    tmp = []\n",
    "    for i in out[0]:\n",
    "        tmp.append(idx2word[i])\n",
    "        if(tmp[-1] == \"EOS\"):\n",
    "            break\n",
    "    print(\" \".join(tmp))\n",
    "    return attn\n",
    "\n",
    "idx = np.random.choice(len(idx_in_sen))\n",
    "attn_map = get_attn_special_sen(True,idx_in_sen[idx],idx_out_sen[idx])"
   ]
  },
  {
   "cell_type": "code",
   "execution_count": 56,
   "metadata": {},
   "outputs": [
    {
     "data": {
      "image/png": "[encoded data removed]",
      "text/plain": [
       "<Figure size 432x288 with 1 Axes>"
      ]
     },
     "metadata": {
      "needs_background": "light"
     },
     "output_type": "display_data"
    }
   ],
   "source": [
    "plt.imshow(attn_map[0][0:8],cmap=\"gray\")\n",
    "plt.yticks([i for i in range(8)],[i for i in range(8)])\n",
    "plt.show()\n"
   ]
  },
  {
   "cell_type": "code",
   "execution_count": 21,
   "metadata": {},
   "outputs": [
    {
     "name": "stdout",
     "output_type": "stream",
     "text": [
      "603891\n",
      "他 , 说 , 你 , 还 , 没 , 长大 , 所以 , 你 , 要 , 乖乖 , 听话 , EOS , d , uj , r , p , v , m , n , c , v , NOP , ang , NOE , 9 , NOR , NULL , NULL , NULL , NULL , NULL , NULL , NULL , NULL , NULL , NULL , NULL , NULL , NULL , NULL , NULL , NULL , NULL , NULL , NULL , NULL , NULL , NULL , NULL , NULL , NULL , NULL , NULL , NULL , NULL , NULL , NULL , NULL , NULL , NULL , "
     ]
    }
   ],
   "source": [
    "idx = np.random.choice(len(idx_in_sen))\n",
    "print(idx)\n",
    "my_dict = get_batch([idx])\n",
    "# my_dict[t_place] += 2\n",
    "aa_map,aa_pred = sess.run([_attn_map , _pred],my_dict)\n",
    "\n",
    "for i,w in enumerate(idx_in_sen[idx]):\n",
    "    print(idx2word[w],\", \",end=\"\")"
   ]
  },
  {
   "cell_type": "code",
   "execution_count": 270,
   "metadata": {
    "scrolled": true
   },
   "outputs": [
    {
     "data": {
      "image/png": "[encoded data removed]",
      "text/plain": [
       "<Figure size 432x288 with 1 Axes>"
      ]
     },
     "metadata": {
      "needs_background": "light"
     },
     "output_type": "display_data"
    },
    {
     "name": "stdout",
     "output_type": "stream",
     "text": [
      "是 , 你 , 的 , 诺言 , 爱 , 我 , 永远 , EOS , \n",
      "是 , 我 , 的 , 诺言 , 爱 , 她 , 永远 , EOS , NULL , NULL , NULL , NULL , NULL , NULL , NULL , NULL , NULL , NULL , NULL , NULL , NULL , NULL , NULL , NULL , NULL , NULL , NULL , NULL , NULL , NULL , "
     ]
    }
   ],
   "source": [
    "plt.imshow(aa_map[0],cmap=\"gray\")\n",
    "plt.show()\n",
    "\n",
    "for i,w in enumerate(aa_pred[0]):\n",
    "#     print(i,\": {0:<10s} {1: <10s}\".format(w ,idx2word[aa_pred[0][i]]))\n",
    "    print(idx2word[w] , \", \", end=\"\")\n",
    "print()\n",
    "for i,w in enumerate(idx_out_sen[idx]):\n",
    "    print(idx2word[w] , \", \", end=\"\")"
   ]
  },
  {
   "cell_type": "markdown",
   "metadata": {},
   "source": [
    "#### Grad map"
   ]
  },
  {
   "cell_type": "code",
   "execution_count": 57,
   "metadata": {},
   "outputs": [
    {
     "name": "stdout",
     "output_type": "stream",
     "text": [
      "507340\n",
      "\n",
      "Input : 快快 , 拿到 , 学校 , 炫耀 , 吧 , 孩子 , 交点 , 朋友 , 吧 , EOS , y , r , v , r , s , v , uj , v , r , zg , NOP , a , NOE , 10 , NOR , NULL , NULL , NULL , NULL , NULL , NULL , NULL , NULL , NULL , NULL , NULL , NULL , NULL , NULL , NULL , NULL , NULL , NULL , NULL , NULL , NULL , NULL , NULL , NULL , NULL , NULL , NULL , NULL , NULL , NULL , NULL , NULL , NULL , NULL , NULL , \n",
      "\n",
      "Output : 哎呀呀 , 你 , 看 , 你 , 手上 , 拿 , 的 , 是 , 什么 , 啊 , EOS , NULL , NULL , NULL , NULL , NULL , NULL , NULL , NULL , NULL , NULL , NULL , NULL , NULL , NULL , NULL , NULL , NULL , NULL , NULL , \n",
      "output length : 11\n"
     ]
    }
   ],
   "source": [
    "idx = np.random.choice(len(idx_in_sen))\n",
    "print(idx)\n",
    "print()\n",
    "\n",
    "my_dict = get_batch([idx])\n",
    "# my_dict[t_place] += 2\n",
    "print(\"Input : \" , end=\"\")\n",
    "for i,w in enumerate(idx_in_sen[idx]):\n",
    "    print(idx2word[w],\", \",end=\"\")\n",
    "print(\"\\n\")\n",
    "print(\"Ground: \" , end=\"\")\n",
    "for i,w in enumerate(idx_out_sen[idx]):\n",
    "    print(idx2word[w],\", \",end=\"\")\n",
    "print()\n",
    "print(\"output length :\",my_dict[t_place])"
   ]
  },
  {
   "cell_type": "code",
   "execution_count": 61,
   "metadata": {},
   "outputs": [
    {
     "name": "stdout",
     "output_type": "stream",
     "text": [
      "Position output : EOS\n",
      "哎呀呀 你 看 你 心里 拿 的 是 什么 啊 EOS \n"
     ]
    },
    {
     "data": {
      "image/png": "[encoded data removed]",
      "text/plain": [
       "<Figure size 432x288 with 1 Axes>"
      ]
     },
     "metadata": {
      "needs_background": "light"
     },
     "output_type": "display_data"
    }
   ],
   "source": [
    "end = 10\n",
    "my_dict[_t_position] = end\n",
    "gn , my_pred = sess.run([xs_vector_gradnorm,_pred],my_dict)\n",
    "print(\"Position output :\" , idx2word[my_pred[0,my_dict[_t_position]]])\n",
    "for i,w in enumerate(my_pred[0]):\n",
    "    print(idx2word[w] ,\"\" , end=\"\")\n",
    "print()\n",
    "\n",
    "gn -= gn.min()\n",
    "gn /= gn.max()\n",
    "plt.imshow(gn,cmap=\"gray\")\n",
    "plt.show()"
   ]
  },
  {
   "cell_type": "code",
   "execution_count": 59,
   "metadata": {},
   "outputs": [
    {
     "data": {
      "image/png": "[encoded data removed]",
      "text/plain": [
       "<Figure size 432x288 with 1 Axes>"
      ]
     },
     "metadata": {
      "needs_background": "light"
     },
     "output_type": "display_data"
    }
   ],
   "source": [
    "my_dict[_t_position] = 0\n",
    "gn , my_pred = sess.run([xs_vector_gradnorm,_pred],my_dict)\n",
    "gn -= gn.min()\n",
    "gn /= gn.max()\n",
    "for i in range(1,end+1):\n",
    "    my_dict[_t_position] = i\n",
    "    tmp = sess.run(xs_vector_gradnorm,my_dict)\n",
    "    tmp -= tmp.min()\n",
    "    tmp /= tmp.max()\n",
    "    gn = np.concatenate([gn,tmp],axis=0)\n",
    "\n",
    "plt.imshow(gn,cmap=\"gray\")\n",
    "plt.show()"
   ]
  },
  {
   "cell_type": "code",
   "execution_count": 60,
   "metadata": {},
   "outputs": [
    {
     "data": {
      "image/png": "[encoded data removed]",
      "text/plain": [
       "<Figure size 432x288 with 1 Axes>"
      ]
     },
     "metadata": {
      "needs_background": "light"
     },
     "output_type": "display_data"
    }
   ],
   "source": [
    "plt.imshow(gn>0.5,cmap=\"gray\")\n",
    "plt.show()"
   ]
  },
  {
   "cell_type": "code",
   "execution_count": 332,
   "metadata": {},
   "outputs": [
    {
     "name": "stdout",
     "output_type": "stream",
     "text": [
      "Position output : 那年\n",
      "我们 , 难忘 , 的 , 那年 , EOS , \n"
     ]
    },
    {
     "data": {
      "image/png": "[encoded data removed]",
      "text/plain": [
       "<Figure size 432x288 with 1 Axes>"
      ]
     },
     "metadata": {
      "needs_background": "light"
     },
     "output_type": "display_data"
    }
   ],
   "source": [
    "gn , my_pred = sess.run([conv1_gradnorm,_pred],my_dict)\n",
    "print(\"Position output :\" , idx2word[my_pred[0,my_dict[_t_position]]])\n",
    "for i,w in enumerate(my_pred[0]):\n",
    "    print(idx2word[w] , \", \" , end=\"\")\n",
    "print()\n",
    "\n",
    "gn -= gn.min()\n",
    "gn /= gn.max()\n",
    "plt.imshow(gn,cmap=\"gray\")\n",
    "plt.show()"
   ]
  },
  {
   "cell_type": "code",
   "execution_count": 333,
   "metadata": {},
   "outputs": [
    {
     "name": "stdout",
     "output_type": "stream",
     "text": [
      "Position output : 那年\n",
      "我们 , 难忘 , 的 , 那年 , EOS , \n"
     ]
    },
    {
     "data": {
      "image/png": "[encoded data removed]",
      "text/plain": [
       "<Figure size 432x288 with 1 Axes>"
      ]
     },
     "metadata": {
      "needs_background": "light"
     },
     "output_type": "display_data"
    }
   ],
   "source": [
    "gn , my_pred = sess.run([conv2_gradnorm,_pred],my_dict)\n",
    "print(\"Position output :\" , idx2word[my_pred[0,my_dict[_t_position]]])\n",
    "for i,w in enumerate(my_pred[0]):\n",
    "    print(idx2word[w] , \", \" , end=\"\")\n",
    "print()\n",
    "\n",
    "gn -= gn.min()\n",
    "gn /= gn.max()\n",
    "plt.imshow(gn,cmap=\"gray\")\n",
    "plt.show()"
   ]
  },
  {
   "cell_type": "markdown",
   "metadata": {},
   "source": [
    "#### Activation map"
   ]
  },
  {
   "cell_type": "code",
   "execution_count": 215,
   "metadata": {},
   "outputs": [],
   "source": [
    "act_map = sess.run(conv2,my_dict)"
   ]
  },
  {
   "cell_type": "code",
   "execution_count": 347,
   "metadata": {},
   "outputs": [
    {
     "data": {
      "text/plain": [
       "<matplotlib.image.AxesImage at 0x7f8dfd7ba2e8>"
      ]
     },
     "execution_count": 347,
     "metadata": {},
     "output_type": "execute_result"
    },
    {
     "data": {
      "image/png": "[encoded data removed]",
      "text/plain": [
       "<Figure size 432x288 with 1 Axes>"
      ]
     },
     "metadata": {
      "needs_background": "light"
     },
     "output_type": "display_data"
    }
   ],
   "source": [
    "i = 50\n",
    "plt.imshow(act_map.reshape(12,256)[:,i:i+1].T,cmap=\"gray\")"
   ]
  },
  {
   "cell_type": "markdown",
   "metadata": {},
   "source": [
    "#### Change rhyme"
   ]
  },
  {
   "cell_type": "code",
   "execution_count": 373,
   "metadata": {},
   "outputs": [],
   "source": [
    "rhy_token = pickle.load(open(\"Tok.pkl\" , \"rb\"))[\"rhy\"]\n",
    "len_token = pickle.load(open(\"Tok.pkl\" , \"rb\"))[\"len\"]\n",
    "pos_token = pickle.load(open(\"Tok.pkl\" , \"rb\"))[\"pos\"]"
   ]
  },
  {
   "cell_type": "code",
   "execution_count": 359,
   "metadata": {},
   "outputs": [],
   "source": [
    "def pad_zero(data , r , max_len):\n",
    "    arr = []\n",
    "    for sample in data:\n",
    "        arr.append([x for x in sample])\n",
    "        arr[-1].extend([0 for _ in range(max_len-len(arr[-1]))])\n",
    "    \n",
    "    return arr"
   ]
  },
  {
   "cell_type": "code",
   "execution_count": 370,
   "metadata": {},
   "outputs": [],
   "source": [
    "def exp_change_rhyme(r,sample_num = 5000,f=None):\n",
    "    \n",
    "    from pypinyin import Style, lazy_pinyin\n",
    "    def check_tone(ss):\n",
    "        tone = lazy_pinyin(ss[-1], style=Style.FINALS, strict=False)[0]\n",
    "        if(tone == r):\n",
    "            return 1\n",
    "        else:\n",
    "            return 0\n",
    "        \n",
    "    sample = np.random.choice(len(data_agent.orig_data),sample_num,replace=False)\n",
    "    \n",
    "    arr = []\n",
    "    max_len = 0\n",
    "    orig_rhy = []\n",
    "    for i in sample:\n",
    "        ss = data_agent.orig_data[i][1::]\n",
    "        if(len(ss) > max_len):\n",
    "            max_len = len(ss)\n",
    "        flag = False\n",
    "        tmp = []\n",
    "        for s in ss:\n",
    "            if(flag):\n",
    "                orig_rhy.append(s)\n",
    "                tmp.append(word2idx[r])\n",
    "                flag=False\n",
    "                continue\n",
    "            try:\n",
    "                tmp.append(word2idx[s])\n",
    "            except KeyError:\n",
    "                tmp.append(word2idx[\"OOV\"])\n",
    "            if(s == \"NOP\"):\n",
    "                flag = True\n",
    "        arr.append(tmp)\n",
    "    \n",
    "            \n",
    "    output_seq = []\n",
    "    for i in range(sample_num//1000):\n",
    "        \n",
    "        batch_data = arr[i*1000:i*1000+1000]\n",
    "        batch_data = pad_zero(batch_data,0,max_len)\n",
    "        decode = sess.run(_pred,feed_dict={_xs:batch_data,t_place:30})\n",
    "        for d in decode:\n",
    "            rhy_word = r\n",
    "            for si in d:\n",
    "                if(si == word2idx[\"EOS\"]):\n",
    "                    break\n",
    "                rhy_word = idx2word[si]\n",
    "            output_seq.append( check_tone(rhy_word) )\n",
    "    if(f):\n",
    "        print(\"Change rhy to\",r,file=f)\n",
    "        print(\"Accuracy :\" , sum(output_seq)/sample_num,file=f)\n",
    "    else:\n",
    "        print(\"Change rhy to\",r)\n",
    "        print(\"Accuracy :\" , sum(output_seq)/sample_num)\n",
    "    assert len(output_seq) == len(orig_rhy)\n",
    "    ## confusion matrix\n",
    "    vector = np.zeros([len(rhy_token)])\n",
    "    vector_count = np.zeros([len(rhy_token)])\n",
    "    for i,t_r in enumerate(rhy_token):\n",
    "        for j,o_r in enumerate(orig_rhy):\n",
    "            if(o_r == t_r):\n",
    "                if(output_seq[j] == 1):\n",
    "                    vector[i]+=1\n",
    "                vector_count[i]+=1\n",
    "    return vector/vector_count"
   ]
  },
  {
   "cell_type": "code",
   "execution_count": null,
   "metadata": {},
   "outputs": [],
   "source": [
    "ff = open(\"Confusion_m.log\",\"w\")\n",
    "confuse_m = []\n",
    "for r in rhy_token[::-1]:\n",
    "    v = exp_change_rhyme(r,70000,ff)\n",
    "    confuse_m.append(v)\n",
    "ff.close()"
   ]
  },
  {
   "cell_type": "code",
   "execution_count": 369,
   "metadata": {},
   "outputs": [
    {
     "data": {
      "image/png": "[encoded data removed]",
      "text/plain": [
       "<Figure size 432x288 with 2 Axes>"
      ]
     },
     "metadata": {
      "needs_background": "light"
     },
     "output_type": "display_data"
    }
   ],
   "source": [
    "con_confuse = np.stack(confuse_m,axis=0)\n",
    "\n",
    "plt.imshow(con_confuse)\n",
    "plt.colorbar()\n",
    "plt.axis(\"off\")\n",
    "plt.show()"
   ]
  },
  {
   "cell_type": "markdown",
   "metadata": {},
   "source": [
    "#### Embedding"
   ]
  },
  {
   "cell_type": "code",
   "execution_count": 383,
   "metadata": {},
   "outputs": [
    {
     "data": {
      "image/png": "[encoded data removed]",
      "text/plain": [
       "<Figure size 576x432 with 2 Axes>"
      ]
     },
     "metadata": {
      "needs_background": "light"
     },
     "output_type": "display_data"
    }
   ],
   "source": [
    "def get_lda_embed_transform_vec():\n",
    "    posTok_idx = [word2idx[i] for i in pos_token]\n",
    "    lenTok_idx = [word2idx[i] for i in len_token]\n",
    "    rhyTok_idx = [word2idx[i] for i in rhy_token]\n",
    "    wordTok_idx = np.random.choice([word2idx[w] for w in idx2word if not ( w in pos_token or w in len_token or w in rhy_token )], \n",
    "                                   3000, replace=False)\n",
    "\n",
    "    label_dict = [\"word\" , \"pos\" , \"len\" , \"rhy\" ]\n",
    "\n",
    "    v_pos = sess.run(_exp_vec,feed_dict={_exp_idx:posTok_idx})\n",
    "    v_len = sess.run(_exp_vec,feed_dict={_exp_idx:lenTok_idx})\n",
    "    v_rhy = sess.run(_exp_vec,feed_dict={_exp_idx:rhyTok_idx})\n",
    "    v_word = sess.run(_exp_vec,feed_dict={_exp_idx:wordTok_idx})\n",
    "\n",
    "    lda = LDA(n_components=3)\n",
    "    attr_label = np.concatenate([np.ones([v.shape[0]])*i for i,v in enumerate([v_word , v_pos , v_len , v_rhy ])],axis=0)\n",
    "    concat_vec = np.concatenate([v_word , v_pos , v_len , v_rhy ],axis=0)\n",
    "\n",
    "    attr_transform_vec = lda.fit_transform(concat_vec,attr_label)\n",
    "    \n",
    "    return attr_transform_vec , attr_label\n",
    "\n",
    "def plot_embd(transform_vec,label,title,save=None):\n",
    "    plt.figure(figsize=[8,6])\n",
    "    plt.title(title)\n",
    "    plt.scatter(transform_vec[:,0],transform_vec[:,1],c=label,cmap=\"Spectral\")\n",
    "    plt.colorbar()\n",
    "    if save:\n",
    "        plt.savefig(save)\n",
    "    plt.show()\n",
    "\n",
    "    \n",
    "attr_transform_vec , attr_label = get_lda_embed_transform_vec()\n",
    "plot_embd(attr_transform_vec,attr_label,\"Attr cluster\",save=\"attr_lda_embedd.png\")"
   ]
  },
  {
   "cell_type": "code",
   "execution_count": null,
   "metadata": {},
   "outputs": [],
   "source": []
  }
 ],
 "metadata": {
  "kernelspec": {
   "display_name": "tf1.12",
   "language": "python",
   "name": "tf1.12"
  },
  "language_info": {
   "codemirror_mode": {
    "name": "ipython",
    "version": 3
   },
   "file_extension": ".py",
   "mimetype": "text/x-python",
   "name": "python",
   "nbconvert_exporter": "python",
   "pygments_lexer": "ipython3",
   "version": "3.6.4"
  }
 },
 "nbformat": 4,
 "nbformat_minor": 2
}
